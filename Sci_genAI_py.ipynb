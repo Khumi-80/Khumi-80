{
  "nbformat": 4,
  "nbformat_minor": 0,
  "metadata": {
    "colab": {
      "provenance": [],
      "authorship_tag": "ABX9TyPCCBnJTiU+CMBEvH2CDUDT",
      "include_colab_link": true
    },
    "kernelspec": {
      "name": "python3",
      "display_name": "Python 3"
    },
    "language_info": {
      "name": "python"
    }
  },
  "cells": [
    {
      "cell_type": "markdown",
      "metadata": {
        "id": "view-in-github",
        "colab_type": "text"
      },
      "source": [
        "<a href=\"https://colab.research.google.com/github/Khumi-80/Khumi-80/blob/main/Sci_genAI_py.ipynb\" target=\"_parent\"><img src=\"https://colab.research.google.com/assets/colab-badge.svg\" alt=\"Open In Colab\"/></a>"
      ]
    },
    {
      "cell_type": "code",
      "execution_count": 1,
      "metadata": {
        "colab": {
          "base_uri": "https://localhost:8080/",
          "height": 383
        },
        "id": "N4wivHiSXnGf",
        "outputId": "cee55d17-79ca-447b-d48c-bb685fdbfdf0"
      },
      "outputs": [
        {
          "output_type": "error",
          "ename": "ModuleNotFoundError",
          "evalue": "No module named 'streamlit'",
          "traceback": [
            "\u001b[0;31m---------------------------------------------------------------------------\u001b[0m",
            "\u001b[0;31mModuleNotFoundError\u001b[0m                       Traceback (most recent call last)",
            "\u001b[0;32m<ipython-input-1-8afc782c6176>\u001b[0m in \u001b[0;36m<cell line: 1>\u001b[0;34m()\u001b[0m\n\u001b[0;32m----> 1\u001b[0;31m \u001b[0;32mimport\u001b[0m \u001b[0mstreamlit\u001b[0m \u001b[0;32mas\u001b[0m \u001b[0mst\u001b[0m\u001b[0;34m\u001b[0m\u001b[0;34m\u001b[0m\u001b[0m\n\u001b[0m\u001b[1;32m      2\u001b[0m \u001b[0;32mimport\u001b[0m \u001b[0mmath\u001b[0m\u001b[0;34m\u001b[0m\u001b[0;34m\u001b[0m\u001b[0m\n\u001b[1;32m      3\u001b[0m \u001b[0;34m\u001b[0m\u001b[0m\n\u001b[1;32m      4\u001b[0m \u001b[0;31m# Function to handle scientific calculator operations\u001b[0m\u001b[0;34m\u001b[0m\u001b[0;34m\u001b[0m\u001b[0m\n\u001b[1;32m      5\u001b[0m \u001b[0;32mdef\u001b[0m \u001b[0mscientific_calculator\u001b[0m\u001b[0;34m(\u001b[0m\u001b[0;34m)\u001b[0m\u001b[0;34m:\u001b[0m\u001b[0;34m\u001b[0m\u001b[0;34m\u001b[0m\u001b[0m\n",
            "\u001b[0;31mModuleNotFoundError\u001b[0m: No module named 'streamlit'",
            "",
            "\u001b[0;31m---------------------------------------------------------------------------\u001b[0;32m\nNOTE: If your import is failing due to a missing package, you can\nmanually install dependencies using either !pip or !apt.\n\nTo view examples of installing some common dependencies, click the\n\"Open Examples\" button below.\n\u001b[0;31m---------------------------------------------------------------------------\u001b[0m\n"
          ],
          "errorDetails": {
            "actions": [
              {
                "action": "open_url",
                "actionText": "Open Examples",
                "url": "/notebooks/snippets/importing_libraries.ipynb"
              }
            ]
          }
        }
      ],
      "source": [
        "import streamlit as st\n",
        "import math\n",
        "\n",
        "# Function to handle scientific calculator operations\n",
        "def scientific_calculator():\n",
        "    st.title(\"Scientific Calculator\")\n",
        "\n",
        "    # Select the operation\n",
        "    operation = st.selectbox(\"Select operation:\",\n",
        "                             [\"Addition\", \"Subtraction\", \"Multiplication\", \"Division\",\n",
        "                              \"Power\", \"Square Root\", \"Logarithm (Base 10)\", \"Exponential\",\n",
        "                              \"Sine\", \"Cosine\", \"Tangent\"])\n",
        "\n",
        "    if operation == \"Addition\":\n",
        "        num1 = st.number_input(\"Enter first number\", format=\"%.5f\")\n",
        "        num2 = st.number_input(\"Enter second number\", format=\"%.5f\")\n",
        "        if st.button(\"Calculate\"):\n",
        "            st.write(f\"Result: {num1} + {num2} = {num1 + num2}\")\n",
        "\n",
        "    elif operation == \"Subtraction\":\n",
        "        num1 = st.number_input(\"Enter first number\", format=\"%.5f\")\n",
        "        num2 = st.number_input(\"Enter second number\", format=\"%.5f\")\n",
        "        if st.button(\"Calculate\"):\n",
        "            st.write(f\"Result: {num1} - {num2} = {num1 - num2}\")\n",
        "\n",
        "    elif operation == \"Multiplication\":\n",
        "        num1 = st.number_input(\"Enter first number\", format=\"%.5f\")\n",
        "        num2 = st.number_input(\"Enter second number\", format=\"%.5f\")\n",
        "        if st.button(\"Calculate\"):\n",
        "            st.write(f\"Result: {num1} * {num2} = {num1 * num2}\")\n",
        "\n",
        "    elif operation == \"Division\":\n",
        "        num1 = st.number_input(\"Enter first number\", format=\"%.5f\")\n",
        "        num2 = st.number_input(\"Enter second number\", format=\"%.5f\")\n",
        "        if st.button(\"Calculate\"):\n",
        "            if num2 != 0:\n",
        "                st.write(f\"Result: {num1} / {num2} = {num1 / num2}\")\n",
        "            else:\n",
        "                st.write(\"Error! Division by zero.\")\n",
        "\n",
        "    elif operation == \"Power\":\n",
        "        base = st.number_input(\"Enter base\", format=\"%.5f\")\n",
        "        exponent = st.number_input(\"Enter exponent\", format=\"%.5f\")\n",
        "        if st.button(\"Calculate\"):\n",
        "            st.write(f\"Result: {base} ^ {exponent} = {math.pow(base, exponent)}\")\n",
        "\n",
        "    elif operation == \"Square Root\":\n",
        "        num = st.number_input(\"Enter a number\", format=\"%.5f\")\n",
        "        if st.button(\"Calculate\"):\n",
        "            if num >= 0:\n",
        "                st.write(f\"Result: Square root of {num} = {math.sqrt(num)}\")\n",
        "            else:\n",
        "                st.write(\"Error! Cannot take square root of a negative number.\")\n",
        "\n",
        "    elif operation == \"Logarithm (Base 10)\":\n",
        "        num = st.number_input(\"Enter a number\", format=\"%.5f\")\n",
        "        if st.button(\"Calculate\"):\n",
        "            if num > 0:\n",
        "                st.write(f\"Result: Log base 10 of {num} = {math.log10(num)}\")\n",
        "            else:\n",
        "                st.write(\"Error! Logarithm undefined for zero or negative numbers.\")\n",
        "\n",
        "    elif operation == \"Exponential\":\n",
        "        num = st.number_input(\"Enter a number\", format=\"%.5f\")\n",
        "        if st.button(\"Calculate\"):\n",
        "            st.write(f\"Result: e^{num} = {math.exp(num)}\")\n",
        "\n",
        "    elif operation == \"Sine\":\n",
        "        angle = st.number_input(\"Enter angle in degrees\", format=\"%.5f\")\n",
        "        if st.button(\"Calculate\"):\n",
        "            st.write(f\"Result: sin({angle}) = {math.sin(math.radians(angle))}\")\n",
        "\n",
        "    elif operation == \"Cosine\":\n",
        "        angle = st.number_input(\"Enter angle in degrees\", format=\"%.5f\")\n",
        "        if st.button(\"Calculate\"):\n",
        "            st.write(f\"Result: cos({angle}) = {math.cos(math.radians(angle))}\")\n",
        "\n",
        "    elif operation == \"Tangent\":\n",
        "        angle = st.number_input(\"Enter angle in degrees\", format=\"%.5f\")\n",
        "        if st.button(\"Calculate\"):\n",
        "            st.write(f\"Result: tan({angle}) = {math.tan(math.radians(angle))}\")\n",
        "\n",
        "# Run the calculator\n",
        "if __name__ == \"__main__\":\n",
        "    scientific_calculator()\n"
      ]
    }
  ]
}